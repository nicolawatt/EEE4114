{
 "cells": [
  {
   "cell_type": "code",
   "execution_count": 43,
   "id": "575dde0c",
   "metadata": {},
   "outputs": [
    {
     "name": "stdout",
     "output_type": "stream",
     "text": [
      "Imported\n"
     ]
    }
   ],
   "source": [
    "import tensorflow as tf\n",
    "import matplotlib.pyplot as plt\n",
    "import numpy as np\n",
    "from tensorflow.keras import datasets, layers, models\n",
    "import cv2\n",
    "import os\n",
    "import pickle\n",
    "print(\"Imported\")"
   ]
  },
  {
   "cell_type": "code",
   "execution_count": 44,
   "id": "0f6ae2ed",
   "metadata": {},
   "outputs": [],
   "source": [
    "Directory = r'C:\\Users\\gathu\\OneDrive - University of Cape Town\\EEE4114F\\Project\\ProjectCode\\Datasets'\n",
    "Categories = ['battery', 'diode','ground', 'inductor', 'resistor']"
   ]
  },
  {
   "cell_type": "code",
   "execution_count": 45,
   "id": "4345b450",
   "metadata": {},
   "outputs": [],
   "source": [
    "#Loops through each category and assigns an element of folder to category\n",
    "imageData = [] #intended to store csv values of every image\n",
    "for category in Categories:\n",
    "    folder = os.path.join(Directory, category)\n",
    "    label = Categories.index(category) # current electrical component worked with\n",
    "    for image in os.listdir(folder): # cycles through all files in specific folder\n",
    "        imagePath = os.path.join(folder, image)\n",
    "        #need to convert each image in to array using cv2\n",
    "        imageValuesArray = cv2.imread(imagePath)#reads into array\n",
    "        cv2.resize(imageValuesArray, (120, 120)) #ensures that every image is 120x120 \n",
    "        \n",
    "        imageData.append([imageValuesArray, label])# stores the exact image value and corresponding label\n",
    "        \n",
    "        \n",
    "        "
   ]
  },
  {
   "cell_type": "code",
   "execution_count": 46,
   "id": "935d4747",
   "metadata": {},
   "outputs": [
    {
     "data": {
      "text/plain": [
       "980"
      ]
     },
     "execution_count": 46,
     "metadata": {},
     "output_type": "execute_result"
    }
   ],
   "source": [
    "len(imageData)"
   ]
  },
  {
   "cell_type": "code",
   "execution_count": 47,
   "id": "b03700ae",
   "metadata": {},
   "outputs": [],
   "source": [
    "np.random.shuffle(imageData) #randomly shuffles data around"
   ]
  },
  {
   "cell_type": "code",
   "execution_count": 48,
   "id": "05ed0a09",
   "metadata": {},
   "outputs": [],
   "source": [
    "features = []\n",
    "labels = []\n",
    "\n",
    "for featureElement, labelElement in imageData:\n",
    "    features.append(featureElement) #stores all features into array\n",
    "    labels.append(labelElement) #store all labels into array\n",
    "\n",
    "#Converts from list to array - makes it easier to train\n",
    "features = np.array(features)\n",
    "labels = np.array(labels)\n"
   ]
  },
  {
   "cell_type": "code",
   "execution_count": 49,
   "id": "afb1f6b0",
   "metadata": {},
   "outputs": [],
   "source": [
    "#To save variables to computer\n",
    "pickle.dump(features, open('features.pkl', 'wb')) #wb means write in binary\n",
    "pickle.dump(labels, open('labels.pkl', 'wb'))"
   ]
  },
  {
   "cell_type": "code",
   "execution_count": null,
   "id": "d8964745",
   "metadata": {},
   "outputs": [],
   "source": []
  }
 ],
 "metadata": {
  "kernelspec": {
   "display_name": "tensorflowkernel",
   "language": "python",
   "name": "tensorflowkernel"
  },
  "language_info": {
   "codemirror_mode": {
    "name": "ipython",
    "version": 3
   },
   "file_extension": ".py",
   "mimetype": "text/x-python",
   "name": "python",
   "nbconvert_exporter": "python",
   "pygments_lexer": "ipython3",
   "version": "3.10.13"
  }
 },
 "nbformat": 4,
 "nbformat_minor": 5
}
