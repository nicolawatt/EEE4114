{
 "cells": [
  {
   "cell_type": "code",
   "execution_count": 1,
   "id": "f17496f8",
   "metadata": {},
   "outputs": [],
   "source": [
    "import pickle\n",
    "import time\n",
    "#Keras is from tensor flow library\n",
    "from keras.models import Sequential\n",
    "from keras.layers import Conv2D, MaxPooling2D, Flatten, Dense\n",
    "from keras.callbacks import TensorBoard"
   ]
  },
  {
   "cell_type": "code",
   "execution_count": 2,
   "id": "9a9dc85a",
   "metadata": {},
   "outputs": [],
   "source": [
    "#loads saved pickles files from Feature extraction\n",
    "features = pickle.load(open('features.pkl', 'rb')) #rb = read type byte\n",
    "labels = pickle.load(open('labels.pkl', 'rb'))\n",
    "\n",
    "MODELNAME = 'component-prediction-{}'.format(int(time.time())) \n",
    "\n",
    "#Tensor Board useful tool to visualise multiple models -> shows them to allow pick best model\n",
    "tensorboard = TensorBoard(log_dir='logs {}'.format(MODELNAME))\n",
    "#will create a file logs/ of multiple models created \n",
    "                          "
   ]
  },
  {
   "cell_type": "code",
   "execution_count": 3,
   "id": "5b901c42",
   "metadata": {},
   "outputs": [
    {
     "data": {
      "text/plain": [
       "(980, 120, 120, 3)"
      ]
     },
     "execution_count": 3,
     "metadata": {},
     "output_type": "execute_result"
    }
   ],
   "source": [
    "features = features/255\n",
    "#Normalises the rgb values from 255 to 1 -> allows quicker calcualtion with smaller values\n",
    "features.shape"
   ]
  },
  {
   "cell_type": "code",
   "execution_count": 4,
   "id": "8cf19030",
   "metadata": {},
   "outputs": [],
   "source": [
    "#Convolve Input image with a feature detector to get a feature map\n",
    "#Move from feature map to pooled feature map to find the most significant feature in the area\n",
    "#Next flatten pooled feature map into 1-d matrix then pass to Convoution Neural Network into hidden layers\n"
   ]
  },
  {
   "cell_type": "code",
   "execution_count": 5,
   "id": "bd9d3772",
   "metadata": {},
   "outputs": [
    {
     "name": "stdout",
     "output_type": "stream",
     "text": [
      "complete\n"
     ]
    }
   ],
   "source": [
    "model = Sequential()\n",
    "#add first convolution layer - 64 layers (4 feature detectors) of 3x3 matrx\n",
    "#relu works best for creating layers as best activation\n",
    "model.add( Conv2D(64, (3,3), activation = 'relu') ) \n",
    "#After convultion done adds max pooling of size 2x2 - turns feature map into pooled feature map\n",
    "model.add(MaxPooling2D(2,2)) \n",
    "\n",
    "#Adds another convolution and max pooling layer\n",
    "model.add( Conv2D(64, (3,3), activation = 'relu') ) \n",
    "model.add(MaxPooling2D(2,2)) \n",
    "\n",
    "#Flattens into 1-d array\n",
    "model.add(Flatten())\n",
    "\n",
    "#Parses into neural network Dense refers to passing to hidden layers\n",
    "#128 neurons with feature shape 100x100 of 3 rgb colours\n",
    "model.add(Dense(256,input_shape = features.shape[1:], activation = 'relu'))\n",
    "\n",
    "#Creates our output layer\n",
    "#5 neurons for 5 distinct choices\n",
    "#This output layer return softmax -> returns probability of value\n",
    "model.add(Dense(5, activation = 'softmax'))\n",
    "print('complete')\n",
    "\n",
    "#Place was 10:17 in video https://youtu.be/KmrR-ceL7d8?si=SPh1XVDWZt6VrYXM"
   ]
  },
  {
   "cell_type": "code",
   "execution_count": 6,
   "id": "2d3a6276",
   "metadata": {},
   "outputs": [
    {
     "name": "stdout",
     "output_type": "stream",
     "text": [
      "complete\n"
     ]
    }
   ],
   "source": [
    "#adam optimiser is best optimisation option for most uses\n",
    "#check if loss parameter is suitable for more than 2 comparisons -> it  check keras probabilistic losses\n",
    "model.compile(optimizer = 'adam', loss = 'sparse_categorical_crossentropy', metrics=['accuracy'])\n",
    "print('complete')\n"
   ]
  },
  {
   "cell_type": "code",
   "execution_count": 7,
   "id": "e3ccc353",
   "metadata": {},
   "outputs": [
    {
     "name": "stdout",
     "output_type": "stream",
     "text": [
      "Epoch 1/5\n",
      "177/177 [==============================] - 24s 122ms/step - loss: 0.7050 - accuracy: 0.7132 - val_loss: 0.4694 - val_accuracy: 0.8673\n",
      "Epoch 2/5\n",
      "177/177 [==============================] - 22s 127ms/step - loss: 0.0941 - accuracy: 0.9683 - val_loss: 0.5513 - val_accuracy: 0.8469\n",
      "Epoch 3/5\n",
      "177/177 [==============================] - 22s 126ms/step - loss: 0.0478 - accuracy: 0.9853 - val_loss: 0.5978 - val_accuracy: 0.8776\n",
      "Epoch 4/5\n",
      "177/177 [==============================] - 22s 122ms/step - loss: 0.0054 - accuracy: 0.9989 - val_loss: 0.6113 - val_accuracy: 0.8878\n",
      "Epoch 5/5\n",
      "177/177 [==============================] - 21s 116ms/step - loss: 3.0004e-04 - accuracy: 1.0000 - val_loss: 0.6402 - val_accuracy: 0.8878\n",
      "complete\n"
     ]
    }
   ],
   "source": [
    "#accordingly fits model separates into 5 epochs\n",
    "#Epochs is the number of times the whole data set is forwards and backwards passed through the NN\n",
    "#Each pass equals one epoch\n",
    "#batch size are the number of training examples for a single iteration before updating weights\n",
    "#\n",
    "\n",
    "model.fit(features,labels,epochs = 5, validation_split=0.1, batch_size = 5, callbacks=[tensorboard])\n",
    "print('complete')"
   ]
  },
  {
   "cell_type": "code",
   "execution_count": null,
   "id": "8074c344",
   "metadata": {},
   "outputs": [],
   "source": []
  }
 ],
 "metadata": {
  "kernelspec": {
   "display_name": "tensorflowkernel",
   "language": "python",
   "name": "tensorflowkernel"
  },
  "language_info": {
   "codemirror_mode": {
    "name": "ipython",
    "version": 3
   },
   "file_extension": ".py",
   "mimetype": "text/x-python",
   "name": "python",
   "nbconvert_exporter": "python",
   "pygments_lexer": "ipython3",
   "version": "3.10.13"
  }
 },
 "nbformat": 4,
 "nbformat_minor": 5
}
